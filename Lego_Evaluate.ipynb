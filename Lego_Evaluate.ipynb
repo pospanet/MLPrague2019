{
 "cells": [
  {
   "cell_type": "code",
   "execution_count": null,
   "metadata": {},
   "outputs": [],
   "source": [
    "from keras.models import model_from_json\n",
    "import numpy as np\n",
    "import os\n",
    "import datetime\n",
    "import cv2\n",
    "\n",
    "# load json and create model\n",
    "json_file = open('lego.json', 'r')\n",
    "loaded_model_json = json_file.read()\n",
    "json_file.close()\n",
    "loaded_model = model_from_json(loaded_model_json)\n",
    "# load weights into new model\n",
    "loaded_model.load_weights(\"lego.h5\")\n",
    "\n",
    "loaded_model.compile(loss='categorical_crossentropy',\n",
    "                     optimizer='rmsprop',\n",
    "                     metrics=['accuracy']) \n",
    "\n",
    "classes = {}\n",
    "\n",
    "with open(\"lego_classes.txt\", 'r', encoding='utf-8') as classes_file:\n",
    "    for line in classes_file:\n",
    "        item = line.split(\":\")\n",
    "        classes.update({int(item[0]):item[1]})\n",
    "    \n",
    "print()\n",
    "print(\"!!! Done at {}!!!\".format(datetime.datetime.now()))"
   ]
  },
  {
   "cell_type": "code",
   "execution_count": null,
   "metadata": {},
   "outputs": [],
   "source": [
    "data_path = os.path.abspath(os.path.join(os.getcwd(), \"data\", \"lego\", \"valid\"))\n",
    "\n",
    "test_image_file = os.path.join(data_path, \"3003 Brick 2x2\", \"0003.png\")\n",
    "\n",
    "img = cv2.imread(test_image_file)\n",
    "img = cv2.resize(img,(200,200))\n",
    "img = np.reshape(img,[1,200,200,3])\n",
    "\n",
    "predicted_classes = loaded_model.predict_classes(img)\n",
    "\n",
    "predicted_class = predicted_classes[0]\n",
    "\n",
    "print(classes[predicted_class])\n",
    "\n",
    "print()\n",
    "print(\"!!! Done at {}!!!\".format(datetime.datetime.now()))"
   ]
  },
  {
   "cell_type": "code",
   "execution_count": null,
   "metadata": {},
   "outputs": [],
   "source": []
  }
 ],
 "metadata": {
  "kernelspec": {
   "display_name": "Python 3",
   "language": "python",
   "name": "python3"
  },
  "language_info": {
   "codemirror_mode": {
    "name": "ipython",
    "version": 3
   },
   "file_extension": ".py",
   "mimetype": "text/x-python",
   "name": "python",
   "nbconvert_exporter": "python",
   "pygments_lexer": "ipython3",
   "version": "3.6.6"
  }
 },
 "nbformat": 4,
 "nbformat_minor": 2
}
